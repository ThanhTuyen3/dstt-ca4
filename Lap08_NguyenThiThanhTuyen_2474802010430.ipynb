{
  "nbformat": 4,
  "nbformat_minor": 0,
  "metadata": {
    "colab": {
      "provenance": [],
      "toc_visible": true
    },
    "kernelspec": {
      "name": "python3",
      "display_name": "Python 3"
    },
    "language_info": {
      "name": "python"
    }
  },
  "cells": [
    {
      "cell_type": "code",
      "execution_count": 5,
      "metadata": {
        "colab": {
          "base_uri": "https://localhost:8080/"
        },
        "id": "OSzKFKLfl_nh",
        "outputId": "3c036b66-56fe-4067-f7c7-670e5c68d017"
      },
      "outputs": [
        {
          "output_type": "stream",
          "name": "stdout",
          "text": [
            "[ 18 -11   9  -8]\n",
            "[ 9.  -5.5  4.5 -4. ]\n"
          ]
        }
      ],
      "source": [
        "#Bài 1\n",
        "#Câu a\n",
        "import numpy as np\n",
        "u = np.array([2,-1,5,0])\n",
        "v = np.array([4,3,1,-1])\n",
        "w = np.array([-6,2,0,3])\n",
        "x = 2*u-(v+3*w)\n",
        "print (x)\n",
        "#Câu b\n",
        "x = 0.5*(2*u-v-3*w)\n",
        "print(x)"
      ]
    },
    {
      "cell_type": "code",
      "source": [
        "#Bài 2\n",
        "from numpy import linalg\n",
        "A = np.matrix([[0,-1,3],[1,1,1],[4,2,2]])\n",
        "B = np.array([-1,-2,-2])\n",
        "X = np.linalg.solve(A,B)\n",
        "print(X)"
      ],
      "metadata": {
        "colab": {
          "base_uri": "https://localhost:8080/"
        },
        "id": "VG__P-BZnm9F",
        "outputId": "acf877d0-4a47-4056-a5d2-760005a3dd87"
      },
      "execution_count": 6,
      "outputs": [
        {
          "output_type": "stream",
          "name": "stdout",
          "text": [
            "[ 1. -2. -1.]\n"
          ]
        }
      ]
    },
    {
      "cell_type": "code",
      "source": [
        "#Bài 3\n",
        "A = np.matrix([[1,0],[0,0]])\n",
        "B = np.matrix([[0,0],[0,1]])\n",
        "from numpy import linalg as LA\n",
        "#Phương pháp 1\n",
        "LA.inv(A+B)\n",
        "#Phương pháp 2\n",
        "LA.det(A)\n",
        "LA.det(B)\n",
        "LA.det(A+B)"
      ],
      "metadata": {
        "colab": {
          "base_uri": "https://localhost:8080/"
        },
        "id": "-udCgyI-oQ38",
        "outputId": "85cbfdb4-d18c-44d5-e534-5a0130c570c4"
      },
      "execution_count": 8,
      "outputs": [
        {
          "output_type": "execute_result",
          "data": {
            "text/plain": [
              "np.float64(1.0)"
            ]
          },
          "metadata": {},
          "execution_count": 8
        }
      ]
    },
    {
      "cell_type": "code",
      "source": [
        "#Bài 4\n",
        "import sympy as sp\n",
        "x, y = sp.symbols('x y')\n",
        "A = sp.Matrix([[x, y],[y, x]])\n",
        "x1, y1 = sp.symbols('x1 y1')\n",
        "A1 = sp.Matrix([[x1, y1],[y1, x1]])\n",
        "x2, y2 = sp.symbols('x2 y2')\n",
        "A2 = sp.Matrix([[x2, y2],[y2, x2]])\n",
        "A1.T\n",
        "(A1+A2).T\n",
        "((A1+A2).T).equals(A1+A2)\n",
        "c = sp.symbols('c')\n",
        "print (c*A)\n",
        "((c*A).T).equals(c*A)"
      ],
      "metadata": {
        "colab": {
          "base_uri": "https://localhost:8080/"
        },
        "id": "ZSe-OZjgpubz",
        "outputId": "aa77fb58-c03f-40a0-d86b-9ccb1880a43c"
      },
      "execution_count": 9,
      "outputs": [
        {
          "output_type": "stream",
          "name": "stdout",
          "text": [
            "Matrix([[c*x, c*y], [c*y, c*x]])\n"
          ]
        },
        {
          "output_type": "execute_result",
          "data": {
            "text/plain": [
              "True"
            ]
          },
          "metadata": {},
          "execution_count": 9
        }
      ]
    },
    {
      "cell_type": "code",
      "source": [
        "#Bài 7\n",
        "import sympy as sp\n",
        "c1, c2 = sp.symbols('c1 c2')\n",
        "u1, u2 = sp.symbols('u1 u2')\n",
        "sp.solve([c1+c2-u1,c1-c2-u2])\n",
        "u1 = 0\n",
        "u2 = 0\n",
        "sp.solve([c1+c2-u1,c1-c2-u2])"
      ],
      "metadata": {
        "colab": {
          "base_uri": "https://localhost:8080/"
        },
        "id": "1zL-iqokpoqL",
        "outputId": "36b5661e-c800-467a-b00e-c3486475f6a9"
      },
      "execution_count": 10,
      "outputs": [
        {
          "output_type": "execute_result",
          "data": {
            "text/plain": [
              "{c1: 0, c2: 0}"
            ]
          },
          "metadata": {},
          "execution_count": 10
        }
      ]
    },
    {
      "cell_type": "code",
      "source": [
        "#Bài 2.2\n",
        "#Câu a\n",
        "import numpy as np\n",
        "P = np.array([[0,0,3,3,1,1,2,2,1,1],[0,5,5,4,4,3,3,2,2,0]])\n",
        "vecdelta = np.array([4,2])\n",
        "P_caua = (P.T + vecdelta).T\n",
        "print (P_caua)\n",
        "#Câu b\n",
        "import numpy as np\n",
        "P = np.array([[0,0,3,3,1,1,2,2,1,1],[0,5,5,4,4,3,3,2,2,0]])\n",
        "vecdelta = np.array([4,-2])\n",
        "matran_biendoi = np.array([[1.0,0.0],\n",
        "                           [0.0,2.0]])\n",
        "P_caub = (P.T @matran_biendoi + vecdelta).T\n",
        "print(P_caub)"
      ],
      "metadata": {
        "colab": {
          "base_uri": "https://localhost:8080/"
        },
        "id": "JcIAhM3nq4eg",
        "outputId": "0020e0dc-7c0a-4fe3-e234-cbbe5f0bd144"
      },
      "execution_count": 12,
      "outputs": [
        {
          "output_type": "stream",
          "name": "stdout",
          "text": [
            "[[4 4 7 7 5 5 6 6 5 5]\n",
            " [2 7 7 6 6 5 5 4 4 2]]\n",
            "[[ 4.  4.  7.  7.  5.  5.  6.  6.  5.  5.]\n",
            " [-2.  8.  8.  6.  6.  4.  4.  2.  2. -2.]]\n"
          ]
        }
      ]
    },
    {
      "cell_type": "code",
      "source": [
        "#Câu 3.1\n",
        "import sympy as sp\n",
        "from sympy import lambdify\n",
        "x1, x2, x3 = sp.symbols('x1 x2 x3')\n",
        "bieuthuc1 = x1 - x2 + x3\n",
        "f1 = lambdify([x1, x2, x3], bieuthuc1, 'numpy')\n",
        "a, b, c = sp.symbols('a b c')\n",
        "d, e, f = sp.symbols('d e f')\n",
        "f1(a, b, c)\n",
        "f1(d, e, f)\n",
        "f1(a+d, b+e, c+f)\n",
        "f1(a,b,c) + f1(d,e,f) == f1(a+d, b+e, c+f)\n",
        "(f1(a,b,c) + f1(d,e,f)).equals( f1(a+d, b+e, c+f))\n",
        "q = sp.symbols('q')\n",
        "(q*f1(a,b,c) + f1(d,e,f)).equals(f1(q*a+d, q*b+e, q*c+f).expand())\n",
        "bieuthuc2 = 2*x2 + 3* x3\n",
        "f2 = lambdify([x1, x2, x3], bieuthuc2, 'numpy')\n",
        "(q*f2(a,b,c) + f2(d,e,f)).equals(f2(q*a+d, q*b+e, q*c+f).expand())"
      ],
      "metadata": {
        "colab": {
          "base_uri": "https://localhost:8080/"
        },
        "id": "TXtue3f1sxsH",
        "outputId": "27a466aa-c89c-473c-996e-2b79604b2a6c"
      },
      "execution_count": 13,
      "outputs": [
        {
          "output_type": "execute_result",
          "data": {
            "text/plain": [
              "True"
            ]
          },
          "metadata": {},
          "execution_count": 13
        }
      ]
    },
    {
      "cell_type": "code",
      "source": [
        "#Bài 3.3\n",
        "import sympy as sp\n",
        "a, b = sp.symbols('a b')\n",
        "x, y = sp.symbols('x y')\n",
        "sp.solve([a+3*b-x, 2*a+5*b-y],[a,b])\n",
        "fu1 = np.array([1,1,2])\n",
        "fu2 = np.array([4,2,1])\n",
        "fu = a*fu1 + b*fu2\n",
        "print (fu)\n",
        "fu = a.subs(a, -5*x + 3*y)*fu1 + b.subs(b, 2*x - y)*fu2\n",
        "print (fu)"
      ],
      "metadata": {
        "colab": {
          "base_uri": "https://localhost:8080/"
        },
        "id": "wCuMQFy4th-o",
        "outputId": "d6e77e26-43e2-4b9f-fd3d-2043c26d7cd6"
      },
      "execution_count": 14,
      "outputs": [
        {
          "output_type": "stream",
          "name": "stdout",
          "text": [
            "[a + 4*b a + 2*b 2*a + b]\n",
            "[3*x - y -x + y -8*x + 5*y]\n"
          ]
        }
      ]
    },
    {
      "cell_type": "code",
      "source": [
        "#Bài 3.4\n",
        "x1, x2, x3 = sp.symbols('x1 x2 x3')\n",
        "sp.solve([x1+x2-x3, 2*x1+3*x2-x3, 3*x1+5*x2-x3],[x1, x2, x3])"
      ],
      "metadata": {
        "colab": {
          "base_uri": "https://localhost:8080/"
        },
        "id": "gNU1xbH2uhkF",
        "outputId": "04c96dfb-462b-43e1-ad50-16fbcd115bf2"
      },
      "execution_count": 15,
      "outputs": [
        {
          "output_type": "execute_result",
          "data": {
            "text/plain": [
              "{x1: 2*x3, x2: -x3}"
            ]
          },
          "metadata": {},
          "execution_count": 15
        }
      ]
    },
    {
      "cell_type": "code",
      "source": [
        "#Bài 3.6\n",
        "import numpy as np\n",
        "import math\n",
        "from scipy import linalg as LA\n",
        "B = np.matrix([[1.0/math.sqrt(2), 1.0/math.sqrt(2)],\n",
        " [-1.0/math.sqrt(2),1.0/math.sqrt(2)]])\n",
        "LA.orth(B)"
      ],
      "metadata": {
        "colab": {
          "base_uri": "https://localhost:8080/"
        },
        "id": "zcWsXqpnuw50",
        "outputId": "1a30af67-bfeb-467d-828b-cf7b90783989"
      },
      "execution_count": 16,
      "outputs": [
        {
          "output_type": "execute_result",
          "data": {
            "text/plain": [
              "array([[-0.70710678,  0.70710678],\n",
              "       [ 0.70710678,  0.70710678]])"
            ]
          },
          "metadata": {},
          "execution_count": 16
        }
      ]
    }
  ]
}