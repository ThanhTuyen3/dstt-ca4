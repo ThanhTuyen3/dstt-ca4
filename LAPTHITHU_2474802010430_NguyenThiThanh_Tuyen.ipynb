{
  "nbformat": 4,
  "nbformat_minor": 0,
  "metadata": {
    "colab": {
      "provenance": []
    },
    "kernelspec": {
      "name": "python3",
      "display_name": "Python 3"
    },
    "language_info": {
      "name": "python"
    }
  },
  "cells": [
    {
      "cell_type": "code",
      "execution_count": 3,
      "metadata": {
        "colab": {
          "base_uri": "https://localhost:8080/"
        },
        "id": "9wXYdw74jicT",
        "outputId": "d9abca85-9dae-4ddc-97c5-96505c33ced1"
      },
      "outputs": [
        {
          "output_type": "stream",
          "name": "stdout",
          "text": [
            "Tong A + B: [3 3 1 5]\n",
            "Tich 3A - 2B: [  4 -11  13 -10]\n"
          ]
        }
      ],
      "source": [
        "#Câu 1\n",
        "#a\n",
        "import numpy as np\n",
        "A = np.array([2, -1, 3, 0])\n",
        "B = np.array([1, 4, -2, 5])\n",
        "tong = A + B\n",
        "tich = 3 * A - 2 * B\n",
        "print(\"Tong A + B:\", tong)\n",
        "print(\"Tich 3A - 2B:\", tich)"
      ]
    },
    {
      "cell_type": "code",
      "source": [
        "#b\n",
        "import numpy as np\n",
        "tich_vo_huong = np.dot(A, B)\n",
        "do_dai_A = np.linalg.norm(A)\n",
        "do_dai_B = np.linalg.norm(B)\n",
        "cos_goc = tich_vo_huong/(do_dai_A * do_dai_B)\n",
        "goc_do = np.degrees(np.arccos(cos_goc))\n",
        "print(\"Tích vô hướng A * B:\", tich_vo_huong)\n",
        "print('Góc giữa hai vector A và B: ', round(goc_do))"
      ],
      "metadata": {
        "colab": {
          "base_uri": "https://localhost:8080/"
        },
        "id": "XvdoYIQ0l70G",
        "outputId": "143c69b3-542d-402e-b2ad-1a1bb6335e95"
      },
      "execution_count": 19,
      "outputs": [
        {
          "output_type": "stream",
          "name": "stdout",
          "text": [
            "Tich vo huong A * B: -8\n",
            "Góc giữa hai vector A và B:  108\n"
          ]
        }
      ]
    },
    {
      "cell_type": "code",
      "source": [
        "#C\n",
        "import numpy as np\n",
        "C = np.array([[1, 2, -1],\n",
        "              [0, 3, 4],\n",
        "              [2, -1, 0]\n",
        "              ])\n",
        "CTC = np.dot(C.T,C)\n",
        "print('Ma trận C^TxC = ', CTC)"
      ],
      "metadata": {
        "colab": {
          "base_uri": "https://localhost:8080/"
        },
        "id": "vQEJuaRAnBps",
        "outputId": "bed11f9b-0ac9-4011-b726-1cdcb757747d"
      },
      "execution_count": 23,
      "outputs": [
        {
          "output_type": "stream",
          "name": "stdout",
          "text": [
            "Ma trận C^TxC =  [[ 5  0 -1]\n",
            " [ 0 14 10]\n",
            " [-1 10 17]]\n"
          ]
        }
      ]
    },
    {
      "cell_type": "code",
      "source": [
        "#Câu 2\n",
        "import numpy as np\n",
        "M = np.array([[1, 2, 3, 0],\n",
        "              [4, 5, 6, 1],\n",
        "              [7, 8, 9, 2],\n",
        "              [0, 1, 1, 0]\n",
        "              ])\n",
        "N = np.array([[0, 1, 2, 3],\n",
        "              [4, 5, 6, 7],\n",
        "              [8, 9, 10, 11],\n",
        "              [12, 13, 14, 15]\n",
        "              ])\n",
        "#a\n",
        "tich_ma_tran = np.dot(M,N)\n",
        "print(\"Tích ma Trận MxN: \", tich_ma_tran)"
      ],
      "metadata": {
        "colab": {
          "base_uri": "https://localhost:8080/"
        },
        "id": "mv0Q5jWWpv8g",
        "outputId": "3f251dd0-bd92-4c9a-8523-237ddf7dabe6"
      },
      "execution_count": 25,
      "outputs": [
        {
          "output_type": "stream",
          "name": "stdout",
          "text": [
            "Tích ma Trận MxN:  [[ 32  38  44  50]\n",
            " [ 80  96 112 128]\n",
            " [128 154 180 206]\n",
            " [ 12  14  16  18]]\n"
          ]
        }
      ]
    },
    {
      "cell_type": "code",
      "source": [
        "#b\n",
        "import numpy as np\n",
        "M = np.array([[1, 2, 3, 0],\n",
        "              [4, 5, 6, 1],\n",
        "              [7, 8, 9, 2],\n",
        "              [0, 1, 1, 0]\n",
        "              ])\n",
        "dinh_thuc_M = np.linalg.det(M)\n",
        "print('Đỉnh thức M là: ', round(dinh_thuc_M,5))"
      ],
      "metadata": {
        "colab": {
          "base_uri": "https://localhost:8080/"
        },
        "id": "i4HyiHofr0R9",
        "outputId": "71a10ec8-a504-401e-a79f-22d297fc5777"
      },
      "execution_count": 38,
      "outputs": [
        {
          "output_type": "stream",
          "name": "stdout",
          "text": [
            "Đỉnh thức M là:  0.0\n"
          ]
        }
      ]
    },
    {
      "cell_type": "code",
      "source": [
        "#c\n",
        "import numpy as np\n",
        "N = np.array([[0, 1, 2, 3],\n",
        "              [4, 5, 6, 7],\n",
        "              [8, 9, 10, 11],\n",
        "              [12, 13, 14, 15]\n",
        "              ])\n",
        "hang_N = np.linalg.matrix_rank(N)\n",
        "print('Hạng của ma trận N là: ', hang_N)"
      ],
      "metadata": {
        "colab": {
          "base_uri": "https://localhost:8080/"
        },
        "id": "zaQ3kOlntZjL",
        "outputId": "2d0c0a54-56cf-4da2-9f45-76c42fc3ada7"
      },
      "execution_count": 34,
      "outputs": [
        {
          "output_type": "stream",
          "name": "stdout",
          "text": [
            "Hạng của ma trận N là:  2\n"
          ]
        }
      ]
    },
    {
      "cell_type": "code",
      "source": [
        "#Câu 3\n",
        "import numpy as np\n",
        "\n",
        "# Khai báo ma trận P và vector hệ số tự do\n",
        "P = np.array([[2, 1, 0, 1],\n",
        "              [0, 3, 1, -1],\n",
        "              [1, 0, 4, 2],\n",
        "              [0, 1, 0, 3]])\n",
        "\n",
        "b = np.array([4, 7, 9, 5])\n",
        "\n",
        "# a) Tìm ma trận nghịch đảo của P\n",
        "try:\n",
        "    P_nghichdao = np.linalg.inv(P)\n",
        "    print(P_nghichdao)\n",
        "except np.linalg.LinAlgError:\n",
        "    print(\"a) Ma trận P không khả nghịch.\")\n",
        "\n",
        "# b) Giải hệ phương trình P * x = b\n",
        "if 'P_nghichdao' in locals():\n",
        "    x = P_nghichdao @ b\n",
        "    print(x)\n",
        "\n",
        "# c) Kiểm tra lại nghiệm\n",
        "if 'x' in locals():\n",
        "    check = P @ x\n",
        "    print(check)\n",
        "    print(b)\n",
        "    print(np.allclose(check, b))"
      ],
      "metadata": {
        "id": "Px3QbjYYvdYA"
      },
      "execution_count": null,
      "outputs": []
    },
    {
      "cell_type": "code",
      "source": [
        "#Câu 4\n",
        "# Khai báo ma trận Q\n",
        "Q = np.array([[4, -1, 0],\n",
        "              [1, 3, -2],\n",
        "              [0, 1, 2]])\n",
        "\n",
        "# a) Tìm giá trị riêng\n",
        "eigenvalues, eigenvectors = np.linalg.eig(Q)\n",
        "print(eigenvalues)\n",
        "\n",
        "# b) Vector riêng tương ứng\n",
        "print(eigenvectors)\n",
        "\n",
        "# c) Chuẩn hóa vector riêng (độ dài = 1)\n",
        "normed_vectors = eigenvectors / np.linalg.norm(eigenvectors)\n",
        "print(normed_vectors)"
      ],
      "metadata": {
        "id": "g6n-iXCZwTz5"
      },
      "execution_count": null,
      "outputs": []
    },
    {
      "cell_type": "code",
      "source": [
        "#Câu 5\n",
        "# Ma trận hệ số R và vector hằng số b\n",
        "R = np.array([[1, -2,  3],\n",
        "              [2,  0,  1],\n",
        "              [-1, 1,  4]])\n",
        "b = np.array([10, 8, 7])\n",
        "\n",
        "# a) Giải hệ phương trình Rx = b\n",
        "x = np.linalg.solve(R, b)\n",
        "print(x)\n",
        "\n",
        "# b) Kiểm tra khả nghịch và nhân ngược lại\n",
        "try:\n",
        "    R_inv = np.linalg.inv(R)\n",
        "    print(R_inv)\n",
        "    # Kiểm tra lại nghiệm\n",
        "    check = R @ x\n",
        "    print(check)\n",
        "    print(b)\n",
        "except np.linalg.LinAlgError:\n",
        "    print(\"b) R không khả nghịch.\")\n",
        "\n",
        "# c) Chuẩn Frobenius của R\n",
        "fro_norm = np.linalg.norm(R, ord='fro')\n",
        "print(round(fro_norm, 3))"
      ],
      "metadata": {
        "id": "FMvksUlHxRHn"
      },
      "execution_count": null,
      "outputs": []
    }
  ]
}