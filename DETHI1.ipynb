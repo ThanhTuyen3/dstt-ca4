{
  "nbformat": 4,
  "nbformat_minor": 0,
  "metadata": {
    "colab": {
      "provenance": []
    },
    "kernelspec": {
      "name": "python3",
      "display_name": "Python 3"
    },
    "language_info": {
      "name": "python"
    }
  },
  "cells": [
    {
      "cell_type": "code",
      "execution_count": null,
      "metadata": {
        "colab": {
          "base_uri": "https://localhost:8080/"
        },
        "id": "bj6lGaShmkYc",
        "outputId": "a1327542-8779-4f1c-9bdf-af549ec1dfca"
      },
      "outputs": [
        {
          "output_type": "stream",
          "name": "stdout",
          "text": [
            "Tổng A + B: [2 3 1 6]\n",
            "Tich 2A + 3B: [ 3 11  2 14]\n"
          ]
        }
      ],
      "source": [
        "#Câu 1\n",
        "#a\n",
        "import numpy as np\n",
        "A = np.array([3, -2, 1, 4])\n",
        "B = np.array([-1, 5, 0, 2])\n",
        "tong = A + B\n",
        "tich = 2 * A + 3 * B\n",
        "print(\"Tổng A + B:\", tong)\n",
        "print(\"Tich 2A + 3B:\", tich)"
      ]
    },
    {
      "cell_type": "code",
      "source": [
        "#b\n",
        "import numpy as np\n",
        "tich_vo_huong = np.dot(A, B)\n",
        "do_dai_A = np.linalg.norm(A)\n",
        "do_dai_B = np.linalg.norm(B)\n",
        "cos_goc = tich_vo_huong/(do_dai_A * do_dai_B)\n",
        "goc_do = np.degrees(np.arccos(cos_goc))\n",
        "print(\"Tích vô hướng A * B:\", tich_vo_huong)\n",
        "print(\"Góc giữa hai vector A và B: \", round(goc_do, 3))"
      ],
      "metadata": {
        "colab": {
          "base_uri": "https://localhost:8080/"
        },
        "id": "dt9bDli5m85p",
        "outputId": "7ec0e081-ca97-4d35-cc1d-d8d160a8b2eb"
      },
      "execution_count": null,
      "outputs": [
        {
          "output_type": "stream",
          "name": "stdout",
          "text": [
            "Tích vô hướng A * B: -5\n",
            "Góc giữa hai vector A và B:  99.594\n"
          ]
        }
      ]
    },
    {
      "cell_type": "code",
      "source": [
        "#C\n",
        "import numpy as np\n",
        "C = np.array([[2, -1, 3],\n",
        "              [1, 4, -2],\n",
        "              [0, 2, 5]\n",
        "              ])\n",
        "CTC = np.dot(C.T,C)\n",
        "print('Ma trận C^TxC = ', CTC)"
      ],
      "metadata": {
        "colab": {
          "base_uri": "https://localhost:8080/"
        },
        "id": "W7byS2nmnlzi",
        "outputId": "0f874c78-1064-4880-b74b-88aec511447e"
      },
      "execution_count": null,
      "outputs": [
        {
          "output_type": "stream",
          "name": "stdout",
          "text": [
            "Ma trận C^TxC =  [[ 5  2  4]\n",
            " [ 2 21 -1]\n",
            " [ 4 -1 38]]\n"
          ]
        }
      ]
    },
    {
      "cell_type": "code",
      "source": [
        "#Câu 2\n",
        "import numpy as np\n",
        "M = np.array([[2, -1, 3, 0],\n",
        "              [1, 4, -2, 5],\n",
        "              [0, 2, 6, -3],\n",
        "              [-1, 0, 1, 4]\n",
        "              ])\n",
        "N = np.array([[1, 3, -2, 0],\n",
        "              [4, -1, 5, 2],\n",
        "              [0, 2, 3, -1],\n",
        "              [-3, 1, 0, 4]\n",
        "              ])\n",
        "#a\n",
        "tich_ma_tran = np.dot(M,N)\n",
        "print(\"Tích ma Trận MxN: \", tich_ma_tran)"
      ],
      "metadata": {
        "colab": {
          "base_uri": "https://localhost:8080/"
        },
        "id": "nFIWZqUboL4Z",
        "outputId": "2e04acb3-32a4-46ff-c995-1dc21ff2b612"
      },
      "execution_count": null,
      "outputs": [
        {
          "output_type": "stream",
          "name": "stdout",
          "text": [
            "Tích ma Trận MxN:  [[ -2  13   0  -5]\n",
            " [  2   0  12  30]\n",
            " [ 17   7  28 -14]\n",
            " [-13   3   5  15]]\n"
          ]
        }
      ]
    },
    {
      "cell_type": "code",
      "source": [
        "#b\n",
        "import numpy as np\n",
        "M = np.array([[2, -1, 3, 0],\n",
        "              [1, 4, -2, 5],\n",
        "              [0, 2, 6, -3],\n",
        "              [-1, 0, 1, 4]\n",
        "              ])\n",
        "dinh_thuc_M = np.linalg.det(M)\n",
        "print('Đỉnh thức M là: ', round(dinh_thuc_M,5))"
      ],
      "metadata": {
        "colab": {
          "base_uri": "https://localhost:8080/"
        },
        "id": "ljFu5zOXpi2U",
        "outputId": "ee3c023f-00bd-4c8e-d81f-ac6f18115146"
      },
      "execution_count": null,
      "outputs": [
        {
          "output_type": "stream",
          "name": "stdout",
          "text": [
            "Đỉnh thức M là:  409.0\n"
          ]
        }
      ]
    },
    {
      "cell_type": "code",
      "source": [
        "#c\n",
        "import numpy as np\n",
        "N = np.array([[1, 3, -2, 0],\n",
        "              [4, -1, 5, 2],\n",
        "              [0, 2, 3, -1],\n",
        "              [-3, 1, 0, 4]\n",
        "              ])\n",
        "hang_N = np.linalg.matrix_rank(N)\n",
        "print('Hạng của ma trận N là: ', hang_N)"
      ],
      "metadata": {
        "colab": {
          "base_uri": "https://localhost:8080/"
        },
        "id": "bFg4nnU1p4Ih",
        "outputId": "802e8e1c-73a9-4db4-97b1-7908d8c66452"
      },
      "execution_count": null,
      "outputs": [
        {
          "output_type": "stream",
          "name": "stdout",
          "text": [
            "Hạng của ma trận N là:  4\n"
          ]
        }
      ]
    },
    {
      "cell_type": "code",
      "source": [
        "#Câu 3\n",
        "import numpy as np\n",
        "\n",
        "# Khai báo ma trận P và vector hệ số tự do\n",
        "P = np.array([[3, -1, 0, 2],\n",
        "              [1, 4, -2, 0],\n",
        "              [0, 1, 5, -1],\n",
        "              [2, 0, 1, 3]])\n",
        "\n",
        "b = np.array([6, 8, 3, 7])\n",
        "\n",
        "# a) Tìm ma trận nghịch đảo của P\n",
        "try:\n",
        "    P_nghichdao = np.linalg.inv(P)\n",
        "    print(P_nghichdao)\n",
        "except np.linalg.LinAlgError:\n",
        "    print(\"a) Ma trận P không khả nghịch.\")\n",
        "\n",
        "# b) Giải hệ phương trình P * x = b\n",
        "if 'P_nghichdao' in locals():\n",
        "    x = P_nghichdao @ b\n",
        "    print(x)\n",
        "\n",
        "# c) Kiểm tra lại nghiệm\n",
        "if 'x' in locals():\n",
        "    check = P @ x\n",
        "    print(check)\n",
        "    print(b)\n",
        "    print(np.allclose(check, b))"
      ],
      "metadata": {
        "colab": {
          "base_uri": "https://localhost:8080/"
        },
        "id": "76OXnbncqA8C",
        "outputId": "26407456-dc99-4bc9-b50f-79f8409ac84b"
      },
      "execution_count": null,
      "outputs": [
        {
          "output_type": "stream",
          "name": "stdout",
          "text": [
            "[[ 0.5         0.1         0.1        -0.3       ]\n",
            " [-0.14285714  0.2         0.05714286  0.11428571]\n",
            " [-0.03571429 -0.05        0.16428571  0.07857143]\n",
            " [-0.32142857 -0.05       -0.12142857  0.50714286]]\n",
            "[2.         1.71428571 0.42857143 0.85714286]\n",
            "[6. 8. 3. 7.]\n",
            "[6 8 3 7]\n",
            "True\n"
          ]
        }
      ]
    },
    {
      "cell_type": "code",
      "source": [
        "#Câu 4\n",
        "# Khai báo ma trận Q\n",
        "Q = np.array([[5, -2, 1],\n",
        "              [0, 3, -1],\n",
        "              [2, 0, 4]])\n",
        "\n",
        "# a) Tìm giá trị riêng\n",
        "eigenvalues, eigenvectors = np.linalg.eig(Q)\n",
        "print(eigenvalues)\n",
        "\n",
        "# b) Vector riêng tương ứng\n",
        "print(eigenvectors)\n",
        "\n",
        "# c) Chuẩn hóa vector riêng (độ dài = 1)\n",
        "normed_vectors = eigenvectors / np.linalg.norm(eigenvectors)\n",
        "print(normed_vectors)"
      ],
      "metadata": {
        "colab": {
          "base_uri": "https://localhost:8080/"
        },
        "id": "thWlEcqMq0OI",
        "outputId": "1885b2bc-1287-44eb-da11-8e45ca64e902"
      },
      "execution_count": null,
      "outputs": [
        {
          "output_type": "stream",
          "name": "stdout",
          "text": [
            "[6.3553014+0.j         2.8223493+1.07730381j 2.8223493-1.07730381j]\n",
            "[[ 0.74846013+0.j         -0.37423006+0.34234215j -0.37423006-0.34234215j]\n",
            " [-0.18941773+0.j          0.09470887+0.57433055j  0.09470887-0.57433055j]\n",
            " [ 0.63555359+0.j          0.63555359+0.j          0.63555359-0.j        ]]\n",
            "[[ 0.43212366+0.j         -0.21606183+0.19765133j -0.21606183-0.19765133j]\n",
            " [-0.10936038+0.j          0.05468019+0.3315899j   0.05468019-0.3315899j ]\n",
            " [ 0.36693703+0.j          0.36693703+0.j          0.36693703-0.j        ]]\n"
          ]
        }
      ]
    },
    {
      "cell_type": "code",
      "source": [
        "#Câu 5\n",
        "# Ma trận hệ số R và vector hằng số b\n",
        "R = np.array([[4,-1, 2],\n",
        "              [1, 3, -2],\n",
        "              [0, 2, 5]])\n",
        "b = np.array([12, 5, 9])\n",
        "\n",
        "# a) Giải hệ phương trình Rx = b\n",
        "x = np.linalg.solve(R, b)\n",
        "print(x)\n",
        "\n",
        "# b) Kiểm tra khả nghịch và nhân ngược lại\n",
        "try:\n",
        "    R_inv = np.linalg.inv(R)\n",
        "    print(R_inv)\n",
        "    # Kiểm tra lại nghiệm\n",
        "    check = R @ x\n",
        "    print(check)\n",
        "    print(b)\n",
        "except np.linalg.LinAlgError:\n",
        "    print(\"b) R không khả nghịch.\")\n",
        "\n",
        "# c) Chuẩn Frobenius của R\n",
        "fro_norm = np.linalg.norm(R, ord='fro')\n",
        "print(round(fro_norm, 3))"
      ],
      "metadata": {
        "colab": {
          "base_uri": "https://localhost:8080/"
        },
        "id": "MqbqAwaksjD1",
        "outputId": "2b2c6351-76f7-4caf-afdc-fee3450d9930"
      },
      "execution_count": null,
      "outputs": [
        {
          "output_type": "stream",
          "name": "stdout",
          "text": [
            "[2.78823529 1.52941176 1.18823529]\n",
            "[[ 0.22352941  0.10588235 -0.04705882]\n",
            " [-0.05882353  0.23529412  0.11764706]\n",
            " [ 0.02352941 -0.09411765  0.15294118]]\n",
            "[12.  5.  9.]\n",
            "[12  5  9]\n",
            "8.0\n"
          ]
        }
      ]
    }
  ]
}