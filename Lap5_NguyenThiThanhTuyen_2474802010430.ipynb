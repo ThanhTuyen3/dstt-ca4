{
  "nbformat": 4,
  "nbformat_minor": 0,
  "metadata": {
    "colab": {
      "provenance": []
    },
    "kernelspec": {
      "name": "python3",
      "display_name": "Python 3"
    },
    "language_info": {
      "name": "python"
    }
  },
  "cells": [
    {
      "cell_type": "code",
      "execution_count": 1,
      "metadata": {
        "colab": {
          "base_uri": "https://localhost:8080/"
        },
        "id": "Gk_WuZXoZv0z",
        "outputId": "44ee66ce-f045-4c0a-cf79-960ab83cf038"
      },
      "outputs": [
        {
          "output_type": "stream",
          "name": "stdout",
          "text": [
            "[[1 2]\n",
            " [3 4]]\n"
          ]
        }
      ],
      "source": [
        "#Bài 1.1\n",
        "import numpy as np\n",
        "D = np.array([[1,2],[3,4]])\n",
        "E = np.empty_like(D)\n",
        "np.copyto(E,D)\n",
        "E = np.array([[1,2],[3,5]])\n",
        "np.copyto(E,D)\n",
        "print(E)"
      ]
    },
    {
      "cell_type": "code",
      "source": [
        "#Bài 1.2\n",
        "x = np.array([['a,b'],['c,d']])\n",
        "y = 'x'\n",
        "\n",
        "#C = np.matrix([[x,y],[1,2]])\n",
        "#print(C)\n",
        "\n",
        "#A = np.matrix([[[1,2],[3,4],[5,6],[7,8]]])\n",
        "\n",
        "A = np.array([[[1,2],[3,4],[5,6],[7,8]]])\n",
        "print(A)"
      ],
      "metadata": {
        "colab": {
          "base_uri": "https://localhost:8080/"
        },
        "id": "HsTPGX6ycxBv",
        "outputId": "e8f85bc7-b96e-41ac-dbef-2ddf35e46c64"
      },
      "execution_count": 5,
      "outputs": [
        {
          "output_type": "stream",
          "name": "stdout",
          "text": [
            "[[[1 2]\n",
            "  [3 4]\n",
            "  [5 6]\n",
            "  [7 8]]]\n"
          ]
        }
      ]
    },
    {
      "cell_type": "code",
      "source": [
        "#Bài 1.3\n",
        "from numpy import matlib\n",
        "G = matlib.identity(5)\n",
        "print(6)\n",
        "H = matlib.randn(3,2)\n",
        "print(H)\n",
        "K = matlib.zeros([4,4])\n",
        "print(K)"
      ],
      "metadata": {
        "colab": {
          "base_uri": "https://localhost:8080/"
        },
        "id": "mhDgeHGPeBux",
        "outputId": "a7836afd-9464-4a32-e082-a6d2cfa5d393"
      },
      "execution_count": 6,
      "outputs": [
        {
          "output_type": "stream",
          "name": "stdout",
          "text": [
            "6\n",
            "[[ 1.08683728 -0.67009871]\n",
            " [ 0.31789832  0.21522443]\n",
            " [ 0.74648902 -0.78234243]]\n",
            "[[0. 0. 0. 0.]\n",
            " [0. 0. 0. 0.]\n",
            " [0. 0. 0. 0.]\n",
            " [0. 0. 0. 0.]]\n"
          ]
        }
      ]
    },
    {
      "cell_type": "code",
      "source": [
        "#Bài 2.2\n",
        "import numpy as np\n",
        "c = [3, 7, 15, 1, 292, 1, 1, 1, 2, 1, 3, 1, 14, 2]\n",
        "M = np.matrix([[1,2],[3,4]])\n",
        "for i in range(len(c)):\n",
        "  ci = np.matrix([[1,1],[1,0]])\n",
        "  ci[0, 0] = c[i]\n",
        "  if (i==0):\n",
        "    M = ci\n",
        "  else:\n",
        "    M = M.dot(ci)\n",
        "print(M)\n",
        "print (M[0,0]/M[1,0])"
      ],
      "metadata": {
        "colab": {
          "base_uri": "https://localhost:8080/"
        },
        "id": "zecTvFzneqWS",
        "outputId": "b3c493e9-3fe4-4268-8256-adb54aded05c"
      },
      "execution_count": 8,
      "outputs": [
        {
          "output_type": "stream",
          "name": "stdout",
          "text": [
            "[[165707065  80143857]\n",
            " [ 52746197  25510582]]\n",
            "3.1415926535897936\n"
          ]
        }
      ]
    },
    {
      "cell_type": "code",
      "source": [
        "#Bài 3.2\n",
        "import numpy as np\n",
        "X = np.array([[1,1],[1,2],[1,3],[1,4],[1,5]])\n",
        "Y = np.array([[1],[2],[4],[4],[6]])\n",
        "XT = X.transpose()\n",
        "A1 = XT.dot(X)\n",
        "A2 = XT.dot(Y)\n",
        "A = A1.dot(A2)\n",
        "print(A)"
      ],
      "metadata": {
        "colab": {
          "base_uri": "https://localhost:8080/"
        },
        "id": "rxiJWHXIfZfB",
        "outputId": "1cbcc654-7b9d-4d6f-cb3d-2abfbd3de134"
      },
      "execution_count": 11,
      "outputs": [
        {
          "output_type": "stream",
          "name": "stdout",
          "text": [
            "[[1030]\n",
            " [3720]]\n"
          ]
        }
      ]
    },
    {
      "cell_type": "code",
      "source": [
        "#Bài tập chương 5\n",
        "import numpy as np\n",
        "def bpcuctieu(a):\n",
        "  b = []\n",
        "  o1 = []\n",
        "  for i in range(len(a)):\n",
        "    o1.append(1.0)\n",
        "    b.append((i+1)*1.0)\n",
        "  x = np.array([o1,b])\n",
        "  u = np.dot(x,x.T)\n",
        "  y = np.array(a)\n",
        "  from numpy import linalg\n",
        "  u_1 = np.linalg.inv(u)\n",
        "  v = np.dot(u_1,x)\n",
        "  A = np.dot(v,y)\n",
        "  return A\n",
        "du_lieu = [10.0, 8,7,5,2]\n",
        "bpcuctieu(du_lieu)"
      ],
      "metadata": {
        "colab": {
          "base_uri": "https://localhost:8080/"
        },
        "id": "AZEhKcgCjPMm",
        "outputId": "42d0d0df-66b7-4fad-953f-6a2f7a7d8168"
      },
      "execution_count": 14,
      "outputs": [
        {
          "output_type": "execute_result",
          "data": {
            "text/plain": [
              "array([12.1, -1.9])"
            ]
          },
          "metadata": {},
          "execution_count": 14
        }
      ]
    }
  ]
}