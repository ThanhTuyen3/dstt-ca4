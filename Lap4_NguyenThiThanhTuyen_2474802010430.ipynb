{
  "nbformat": 4,
  "nbformat_minor": 0,
  "metadata": {
    "colab": {
      "provenance": []
    },
    "kernelspec": {
      "name": "python3",
      "display_name": "Python 3"
    },
    "language_info": {
      "name": "python"
    }
  },
  "cells": [
    {
      "cell_type": "code",
      "execution_count": null,
      "metadata": {
        "colab": {
          "base_uri": "https://localhost:8080/"
        },
        "id": "1XD_xE0kWn5h",
        "outputId": "f086a619-fc12-446c-c1fa-1c5959e2a330"
      },
      "outputs": [
        {
          "output_type": "execute_result",
          "data": {
            "text/plain": [
              "1"
            ]
          },
          "metadata": {},
          "execution_count": 2
        }
      ],
      "source": [
        "#Bài 1\n",
        "import numpy as np\n",
        "n = 4\n",
        "X = np.array(range(1,n+1))\n",
        "sigma = np.array([4,3,2,1])\n",
        "def sgn_by_def(sigma):\n",
        "  ket_qua = 1.0\n",
        "  for i in range(len(X)-1):\n",
        "    for j in range(i+1, len(X)):\n",
        "      ket_qua = ket_qua * ((X[i]-X[j])/ (sigma[i]-sigma[j]))\n",
        "  return int(ket_qua)\n",
        "sigma = np.array([2,1,3,4])\n",
        "sgn_by_def(sigma)\n",
        "sigma = np.array([1,2,3,4])\n",
        "sgn_by_def(sigma)\n",
        "sigma = np.array([4,3,2,1])\n",
        "sgn_by_def(sigma)"
      ]
    },
    {
      "cell_type": "code",
      "source": [
        "#Bước 1:\n",
        "from itertools import permutations\n",
        "n = 3\n",
        "X = []\n",
        "for i in range (1, n+1):\n",
        "  X.append(i)\n",
        "Sn = list(permutations(X)) #  tạo hoán vị của tập X\n",
        "print (Sn)\n",
        "#Bước 2:\n",
        "det = 0\n",
        "import numpy as np\n",
        "def phatsinh_dinhthuc(n):\n",
        "  X = []\n",
        "  for i in range(1, n+1):\n",
        "    X.append(i)\n",
        "  Sn= list (permutations (X))\n",
        "  dinhthuc=\"\"\n",
        "  for sn in Sn:\n",
        "    sigma = np.array([1])\n",
        "    sigma.resize([n])\n",
        "    product = \"\"\n",
        "    for i in range(1,n+1):\n",
        "      sigma [sn.index(i)] = i\n",
        "      product = product + \"a\"+str(i)+str(sn.index(i)+1)\n",
        "  dau = sgn_by_def(sigma)\n",
        "  if (dau != 1):\n",
        "          product = \"-\" + product\n",
        "  else:\n",
        "           product = \"+\" + product\n",
        "  dinhthuc = dinhthuc + product\n",
        "  return dinhthuc\n",
        "phatsinh_dinhthuc\n",
        "phatsinh_dinhthuc(3)"
      ],
      "metadata": {
        "colab": {
          "base_uri": "https://localhost:8080/",
          "height": 53
        },
        "id": "Iu6A9xsGk62B",
        "outputId": "b1699f6e-4af4-47dd-ed60-dd1ce43dd7f6"
      },
      "execution_count": null,
      "outputs": [
        {
          "output_type": "stream",
          "name": "stdout",
          "text": [
            "[(1, 2, 3), (1, 3, 2), (2, 1, 3), (2, 3, 1), (3, 1, 2), (3, 2, 1)]\n"
          ]
        },
        {
          "output_type": "execute_result",
          "data": {
            "text/plain": [
              "'-a13a22a31'"
            ],
            "application/vnd.google.colaboratory.intrinsic+json": {
              "type": "string"
            }
          },
          "metadata": {},
          "execution_count": 16
        }
      ]
    },
    {
      "cell_type": "code",
      "source": [
        "def tinhtoan_dinhthuc(A):\n",
        "  X = []\n",
        "  import math\n",
        "  n =int(math.sqrt(A.size))\n",
        "  for i in range(1,n+1):\n",
        "    X.append(i)\n",
        "  Sn=list(permutations (X))\n",
        "  dinhthuc = 0\n",
        "  for sn in Sn:\n",
        "    sigma = np.array([1])\n",
        "    sigma.resize([n])\n",
        "    product = 1\n",
        "    for i in range(1,n+1):\n",
        "      sigma [sn.index(i)] = i\n",
        "      product = product*(A[i-1][sn[i-1]-1])\n",
        "    dau = sgn_by_def(sigma)\n",
        "    if (dau!= 1):\n",
        "      product = product *(-1)\n",
        "    dinhthuc = dinhthuc + product\n",
        "  return dinhthuc\n",
        "\n",
        "matran = np.array([ [3,5,-8], [4, 12, -1], [2,5,3]])\n",
        "tinhtoan_dinhthuc(matran)"
      ],
      "metadata": {
        "colab": {
          "base_uri": "https://localhost:8080/"
        },
        "id": "nHlyh7KJk02c",
        "outputId": "9fcc41e8-b833-4a74-d806-b82f171ebf6e"
      },
      "execution_count": null,
      "outputs": [
        {
          "output_type": "execute_result",
          "data": {
            "text/plain": [
              "np.int64(85)"
            ]
          },
          "metadata": {},
          "execution_count": 17
        }
      ]
    },
    {
      "cell_type": "code",
      "source": [
        "#Bài 3\n",
        "#Hệ hai phương trình tuyến tính bậc 1:\n",
        "#4x^1 - 2x^2 = 10\n",
        "#3x^1 - 5x^2 = 11\n",
        "import numpy as np\n",
        "A = np.array([[4, -2],[3, -5]])\n",
        "A1 = np.array([[10,-2],[11,-5]])\n",
        "A2 = np.array([[4, 10], [3,11]])\n",
        "from scipy import linalg\n",
        "detA = linalg.det(A)\n",
        "detA1 = linalg.det(A1)\n",
        "detA2 = linalg.det(A2)\n",
        "print (detA, detA1, detA2)\n",
        "if (detA != 0):\n",
        "  x1 = detA1 / detA\n",
        "  x2 = detA2 / detA\n",
        "  print (\"Hai nghiệm của phương trình là: \", x1, x2)\n",
        "A = np.array([[4, -2],[3, -5]])\n",
        "A1 = np.array([[10,-2],[11,-5]])\n",
        "A2 = np.array([[4, 10], [3,11]])\n",
        "from scipy import linalg\n",
        "detA = linalg.det(A)\n",
        "detA1 = linalg.det(A1)\n",
        "detA2 = linalg.det(A2)\n",
        "print (detA, detA1, detA2)\n",
        "if (detA != 0):\n",
        "  x1 = detA1 / detA\n",
        "  x2 = detA2 / detA\n",
        "  print (\"Hai nghiệm của phương trình là: \", x1, x2)\n",
        "  tinhtoan_dinhthuc()\n",
        "A = np.array([[4, -2],[3, -5]])\n",
        "A1 = np.array([[10,-2],[11,-5]])\n",
        "A2 = np.array([[4, 10], [3,11]])\n",
        "from scipy import linalg\n",
        "detA = linalg.det(A)\n",
        "detA1 = linalg.det(A1)\n",
        "detA2 = linalg.det(A2)\n",
        "print (detA, detA1, detA2)\n",
        "if (detA != 0):\n",
        "  x1 = detA1 / detA\n",
        "  x2 = detA2 / detA\n",
        "  print (\"Hai nghiệm của phương trình là: \", x1, x2)\n",
        "A = np.array([[4, -2],[3, -5]])\n",
        "A1 = np.array([[10,-2],[11,-5]])\n",
        "A2 = np.array([[4, 10], [3,11]])\n",
        "from scipy import linalg\n",
        "detA = linalg.det(A)\n",
        "detA1 = linalg.det(A1)\n",
        "detA2 = linalg.det(A2)\n",
        "print (detA, detA1, detA2)\n",
        "if (detA != 0):\n",
        "  x1 = detA1 / detA\n",
        "  x2 = detA2 / detA\n",
        "  print (\"Hai nghiệm của phương trình là: \", x1, x2)\n",
        "  tinhtoan_dinhthuc()"
      ],
      "metadata": {
        "colab": {
          "base_uri": "https://localhost:8080/",
          "height": 280
        },
        "id": "Zi_PYTwXZ9q1",
        "outputId": "bd6c07c5-a9aa-4fb1-f9f8-6c53dc42c8d9"
      },
      "execution_count": 4,
      "outputs": [
        {
          "output_type": "stream",
          "name": "stdout",
          "text": [
            "-14.0 -28.0 14.000000000000004\n",
            "Hai nghiệm của phương trình là:  2.0 -1.0000000000000002\n",
            "-14.0 -28.0 14.000000000000004\n",
            "Hai nghiệm của phương trình là:  2.0 -1.0000000000000002\n"
          ]
        },
        {
          "output_type": "error",
          "ename": "NameError",
          "evalue": "name 'tinhtoan_dinhthuc' is not defined",
          "traceback": [
            "\u001b[0;31m---------------------------------------------------------------------------\u001b[0m",
            "\u001b[0;31mNameError\u001b[0m                                 Traceback (most recent call last)",
            "\u001b[0;32m/tmp/ipython-input-4-1774220801.py\u001b[0m in \u001b[0;36m<cell line: 0>\u001b[0;34m()\u001b[0m\n\u001b[1;32m     28\u001b[0m   \u001b[0mx2\u001b[0m \u001b[0;34m=\u001b[0m \u001b[0mdetA2\u001b[0m \u001b[0;34m/\u001b[0m \u001b[0mdetA\u001b[0m\u001b[0;34m\u001b[0m\u001b[0;34m\u001b[0m\u001b[0m\n\u001b[1;32m     29\u001b[0m   \u001b[0mprint\u001b[0m \u001b[0;34m(\u001b[0m\u001b[0;34m\"Hai nghiệm của phương trình là: \"\u001b[0m\u001b[0;34m,\u001b[0m \u001b[0mx1\u001b[0m\u001b[0;34m,\u001b[0m \u001b[0mx2\u001b[0m\u001b[0;34m)\u001b[0m\u001b[0;34m\u001b[0m\u001b[0;34m\u001b[0m\u001b[0m\n\u001b[0;32m---> 30\u001b[0;31m   \u001b[0mtinhtoan_dinhthuc\u001b[0m\u001b[0;34m(\u001b[0m\u001b[0;34m)\u001b[0m\u001b[0;34m\u001b[0m\u001b[0;34m\u001b[0m\u001b[0m\n\u001b[0m\u001b[1;32m     31\u001b[0m \u001b[0mA\u001b[0m \u001b[0;34m=\u001b[0m \u001b[0mnp\u001b[0m\u001b[0;34m.\u001b[0m\u001b[0marray\u001b[0m\u001b[0;34m(\u001b[0m\u001b[0;34m[\u001b[0m\u001b[0;34m[\u001b[0m\u001b[0;36m4\u001b[0m\u001b[0;34m,\u001b[0m \u001b[0;34m-\u001b[0m\u001b[0;36m2\u001b[0m\u001b[0;34m]\u001b[0m\u001b[0;34m,\u001b[0m\u001b[0;34m[\u001b[0m\u001b[0;36m3\u001b[0m\u001b[0;34m,\u001b[0m \u001b[0;34m-\u001b[0m\u001b[0;36m5\u001b[0m\u001b[0;34m]\u001b[0m\u001b[0;34m]\u001b[0m\u001b[0;34m)\u001b[0m\u001b[0;34m\u001b[0m\u001b[0;34m\u001b[0m\u001b[0m\n\u001b[1;32m     32\u001b[0m \u001b[0mA1\u001b[0m \u001b[0;34m=\u001b[0m \u001b[0mnp\u001b[0m\u001b[0;34m.\u001b[0m\u001b[0marray\u001b[0m\u001b[0;34m(\u001b[0m\u001b[0;34m[\u001b[0m\u001b[0;34m[\u001b[0m\u001b[0;36m10\u001b[0m\u001b[0;34m,\u001b[0m\u001b[0;34m-\u001b[0m\u001b[0;36m2\u001b[0m\u001b[0;34m]\u001b[0m\u001b[0;34m,\u001b[0m\u001b[0;34m[\u001b[0m\u001b[0;36m11\u001b[0m\u001b[0;34m,\u001b[0m\u001b[0;34m-\u001b[0m\u001b[0;36m5\u001b[0m\u001b[0;34m]\u001b[0m\u001b[0;34m]\u001b[0m\u001b[0;34m)\u001b[0m\u001b[0;34m\u001b[0m\u001b[0;34m\u001b[0m\u001b[0m\n",
            "\u001b[0;31mNameError\u001b[0m: name 'tinhtoan_dinhthuc' is not defined"
          ]
        }
      ]
    },
    {
      "cell_type": "code",
      "source": [
        "#Bài 4\n",
        "import sympy as sp\n",
        "TG = sp.Matrix([[1, 0, 1], [4, 3, 1], [2, 2, 1]])\n",
        "1/2*TG.det()"
      ],
      "metadata": {
        "colab": {
          "base_uri": "https://localhost:8080/",
          "height": 37
        },
        "id": "O6mKZ5zxoTmJ",
        "outputId": "f9f8ce9c-259b-4934-973f-7ddc9bdb6d0d"
      },
      "execution_count": null,
      "outputs": [
        {
          "output_type": "execute_result",
          "data": {
            "text/plain": [
              "1.50000000000000"
            ],
            "text/latex": "$\\displaystyle 1.5$"
          },
          "metadata": {},
          "execution_count": 24
        }
      ]
    },
    {
      "cell_type": "code",
      "source": [
        "#Ứng dụng 2: Mở rộng bài toán tính diện tích thành thể tích hình tứ diện:\n",
        "M = sp.Matrix([[0, 4, 1, 1], [4, 0, 0, 1], [3, 5, 2, 1], [2, 2, 5, 1]])\n",
        "1/6*M.det()"
      ],
      "metadata": {
        "colab": {
          "base_uri": "https://localhost:8080/",
          "height": 37
        },
        "id": "eG0qiVQEqVuM",
        "outputId": "bbd95121-7d8b-4726-e5cb-3f95b210c7d5"
      },
      "execution_count": null,
      "outputs": [
        {
          "output_type": "execute_result",
          "data": {
            "text/plain": [
              "-12.0000000000000"
            ],
            "text/latex": "$\\displaystyle -12.0$"
          },
          "metadata": {},
          "execution_count": 26
        }
      ]
    },
    {
      "cell_type": "code",
      "source": [
        "#Ứng dụng 4: Phương trình mặt phẳng\n",
        "from sympy import *\n",
        "x, y, z = symbols('x y z')\n",
        "MP = Matrix([[x, y, z, 1], [-1, 3, 2, 1], [0, 1, 0, 1], [-2, 0, 1, 1]])\n",
        "MP.det()"
      ],
      "metadata": {
        "colab": {
          "base_uri": "https://localhost:8080/",
          "height": 39
        },
        "id": "4iYDa8GqqWdg",
        "outputId": "e8cd2580-2e42-49bb-e5d4-a78a391a266d"
      },
      "execution_count": 3,
      "outputs": [
        {
          "output_type": "execute_result",
          "data": {
            "text/plain": [
              "-4*x + 3*y - 5*z - 3"
            ],
            "text/latex": "$\\displaystyle - 4 x + 3 y - 5 z - 3$"
          },
          "metadata": {},
          "execution_count": 3
        }
      ]
    }
  ]
}