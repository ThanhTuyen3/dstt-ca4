{
  "nbformat": 4,
  "nbformat_minor": 0,
  "metadata": {
    "colab": {
      "provenance": [],
      "toc_visible": true
    },
    "kernelspec": {
      "name": "python3",
      "display_name": "Python 3"
    },
    "language_info": {
      "name": "python"
    }
  },
  "cells": [
    {
      "cell_type": "code",
      "execution_count": 5,
      "metadata": {
        "colab": {
          "base_uri": "https://localhost:8080/"
        },
        "id": "kkTc2YZsSPG1",
        "outputId": "3fa94178-37c8-4ae6-c9b6-3cd59834b066"
      },
      "outputs": [
        {
          "output_type": "execute_result",
          "data": {
            "text/plain": [
              "array([[-0.69098016,  0.33606206],\n",
              "       [ 0.28819097, -0.33993797]])"
            ]
          },
          "metadata": {},
          "execution_count": 5
        }
      ],
      "source": [
        "#Bài 1\n",
        "#Khai báo thêm thư viện scipylinalg và một số các vector khởi tạo:\n",
        "from scipy import linalg\n",
        "import numpy as np\n",
        "a = np.array([1, 2, 3])\n",
        "b = np.array([(1+9j, 2j, 3j), (4j, 5j, 6j)])\n",
        "c = np.array([[ (0.5, 1.5, 10), (3,2,1) ] , [(6,5,4), (7,8,9)]])\n",
        "#Các kiểu khai báo và khởi tạo ma trận:\n",
        "A = np.matrix(np.random.random((2,2)))\n",
        "B = np.asmatrix(b)\n",
        "C = np.matrix(np.random.random((10,5)))\n",
        "D = np.matrix([[4, 3], [2, 6]])\n",
        "F = np.eye(3, k=1)\n",
        "F = np.eye(3, k=0)\n",
        "F = np.eye(3, k=-1)\n",
        "#Các phép xử lý đơn giản\n",
        "#Xem hạng ma trận:\n",
        "np.linalg.matrix_rank(C)\n",
        "#Tính ma trận nghịch đảo:\n",
        "A.I\n",
        "linalg.inv(A)\n",
        "#Định thức ma trận:\n",
        "linalg.det(A)\n",
        "#Chuyển đổi ma trận:\n",
        "A.T\n",
        "A.H\n",
        "#Giải các loại phương trình tuyến tính:\n",
        "linalg.solve(A, b)\n",
        "E = np.matrix(a).T\n",
        "linalg.lstsq(F, E)\n",
        "#Các hàm trên ma trận\n",
        "#Giới thiệu một số hàm trên ma trận.\n",
        "#Cộng ma trận:\n",
        "np.add(A, D)\n",
        "#Trừ ma trận:\n",
        "np.subtract(A, D)\n",
        "#Chia ma trận:\n",
        "np.divide(A, D)\n",
        "#Nhân ma trận:\n",
        "A@D\n",
        "np.multiply(D, A)\n",
        "np.dot(A, D)\n",
        "np.vdot(A, D)\n",
        "#Hàm lũy thừa và logarith ma trận:\n",
        "linalg.expm(A)\n",
        "linalg.logm(A)"
      ]
    },
    {
      "cell_type": "code",
      "source": [
        "#Bài 2.3\n",
        "#Tính ma trận A:\n",
        "import numpy as np\n",
        "A = np.array([[0,1], [1,0]])\n",
        "print(A)\n",
        "temp = A.dot(A)\n",
        "print(temp)\n",
        "k= 6\n",
        "for i in range(k-1):\n",
        "  temp = temp.dot(A)\n",
        "  print (temp)\n",
        "  print('---')\n",
        "#Tính ma trận B:\n",
        "B = np.array([[0,-1], [-1,0]])\n",
        "print(B)\n",
        "temp = B.dot(B)\n",
        "print(temp)\n",
        "k= 5\n",
        "for i in range(k-1):\n",
        "  temp = temp.dot(B)\n",
        "  print (temp)\n",
        "  print('---')\n",
        "#Ma trận hội tụ - Convergent matrix:\n",
        "C = np.array([[1, 0, 0], [0, 0.5, 1], [0, 0, 0.5]])\n",
        "print(C)\n",
        "temp = C.dot(C)\n",
        "print(temp)\n",
        "#Sau đó, thực hiện thêm 1 lần tích 1000 lần nữa:\n",
        "k= 1000\n",
        "for i in range(k-1):\n",
        "  temp = temp.dot(C)\n",
        "print(temp)\n",
        "k= 1000\n",
        "for i in range(k-1):\n",
        "  temp = temp.dot(C)\n",
        "print(temp)"
      ],
      "metadata": {
        "colab": {
          "base_uri": "https://localhost:8080/"
        },
        "id": "0DGEAIh4aF1U",
        "outputId": "9108a08b-9131-40cf-a6aa-90a972d9d62a"
      },
      "execution_count": 6,
      "outputs": [
        {
          "output_type": "stream",
          "name": "stdout",
          "text": [
            "[[0 1]\n",
            " [1 0]]\n",
            "[[1 0]\n",
            " [0 1]]\n",
            "[[0 1]\n",
            " [1 0]]\n",
            "---\n",
            "[[1 0]\n",
            " [0 1]]\n",
            "---\n",
            "[[0 1]\n",
            " [1 0]]\n",
            "---\n",
            "[[1 0]\n",
            " [0 1]]\n",
            "---\n",
            "[[0 1]\n",
            " [1 0]]\n",
            "---\n",
            "[[ 0 -1]\n",
            " [-1  0]]\n",
            "[[1 0]\n",
            " [0 1]]\n",
            "[[ 0 -1]\n",
            " [-1  0]]\n",
            "---\n",
            "[[1 0]\n",
            " [0 1]]\n",
            "---\n",
            "[[ 0 -1]\n",
            " [-1  0]]\n",
            "---\n",
            "[[1 0]\n",
            " [0 1]]\n",
            "---\n",
            "[[1.  0.  0. ]\n",
            " [0.  0.5 1. ]\n",
            " [0.  0.  0.5]]\n",
            "[[1.   0.   0.  ]\n",
            " [0.   0.25 1.  ]\n",
            " [0.   0.   0.25]]\n",
            "[[1.00000000e+000 0.00000000e+000 0.00000000e+000]\n",
            " [0.00000000e+000 4.66631809e-302 9.34196882e-299]\n",
            " [0.00000000e+000 0.00000000e+000 4.66631809e-302]]\n",
            "[[1. 0. 0.]\n",
            " [0. 0. 0.]\n",
            " [0. 0. 0.]]\n"
          ]
        }
      ]
    },
    {
      "cell_type": "code",
      "source": [
        "#Bài 2.4\n",
        "M = np.array([[0.8, 0.3], [0.2, 0.7]])\n",
        "MM = M.dot(M)\n",
        "print (MM)\n",
        "MM = M.dot(M)\n",
        "print (MM)\n",
        "for i in range(100):\n",
        "  MM = MM.dot(M)\n",
        "print (MM)"
      ],
      "metadata": {
        "colab": {
          "base_uri": "https://localhost:8080/"
        },
        "id": "dPNwjq4HceP1",
        "outputId": "c7a1b670-917e-45cf-ee64-14ed49264388"
      },
      "execution_count": 7,
      "outputs": [
        {
          "output_type": "stream",
          "name": "stdout",
          "text": [
            "[[0.7  0.45]\n",
            " [0.3  0.55]]\n",
            "[[0.7  0.45]\n",
            " [0.3  0.55]]\n",
            "[[0.6 0.6]\n",
            " [0.4 0.4]]\n"
          ]
        }
      ]
    },
    {
      "cell_type": "code",
      "source": [
        "#Bài 3.2\n",
        "#Sinh viên thực hành lệnh trên gói linalg của scipy:\n",
        "M = np.array([[0.8, 0.3], [0.2, 0.7]])\n",
        "P, L, U = linalg.lu(M)\n",
        "print(P)\n",
        "print(L)\n",
        "print(U)\n",
        "#Thử lại với phép nhân LU có bằng ma trận M ban đầu hay không:\n",
        "L.dot(U)"
      ],
      "metadata": {
        "colab": {
          "base_uri": "https://localhost:8080/"
        },
        "id": "2Xi9GE8VdVS6",
        "outputId": "2aa87ba4-abeb-455f-ece6-f8692f87852f"
      },
      "execution_count": 8,
      "outputs": [
        {
          "output_type": "stream",
          "name": "stdout",
          "text": [
            "[[1. 0.]\n",
            " [0. 1.]]\n",
            "[[1.   0.  ]\n",
            " [0.25 1.  ]]\n",
            "[[0.8   0.3  ]\n",
            " [0.    0.625]]\n"
          ]
        },
        {
          "output_type": "execute_result",
          "data": {
            "text/plain": [
              "array([[0.8, 0.3],\n",
              "       [0.2, 0.7]])"
            ]
          },
          "metadata": {},
          "execution_count": 8
        }
      ]
    },
    {
      "cell_type": "code",
      "source": [
        "#Bài 5\n",
        "A = np.array([[0,1,0,1],[0,0,1,0],[1,0,0,1],[1,1,0,0]])\n",
        "temp = A.dot(A)\n",
        "print(temp)\n",
        "temp = temp.dot(A)\n",
        "print(temp)\n",
        "A = np.array([[0,1,0,1],[0,0,1,0],[1,0,0,1],[1,1,0,0]])\n",
        "sumA = A\n",
        "temp = A.dot(A)\n",
        "k = 3\n",
        "sumA = sumA + temp\n",
        "for i in range(1, k-1):\n",
        "  temp = temp.dot(A)\n",
        "  temp = temp.dot(A)\n",
        "print(temp)\n",
        "print(sumA)"
      ],
      "metadata": {
        "colab": {
          "base_uri": "https://localhost:8080/"
        },
        "id": "INpcgSQTeXnY",
        "outputId": "976363ab-5ba7-494e-f32b-a97192b23d1d"
      },
      "execution_count": 9,
      "outputs": [
        {
          "output_type": "stream",
          "name": "stdout",
          "text": [
            "[[1 1 1 0]\n",
            " [1 0 0 1]\n",
            " [1 2 0 1]\n",
            " [0 1 1 1]]\n",
            "[[1 1 1 2]\n",
            " [1 2 0 1]\n",
            " [1 2 2 1]\n",
            " [2 1 1 1]]\n",
            "[[3 3 1 2]\n",
            " [1 2 2 1]\n",
            " [3 2 2 3]\n",
            " [2 3 1 3]]\n",
            "[[1 2 1 1]\n",
            " [1 0 1 1]\n",
            " [2 2 0 2]\n",
            " [1 2 1 1]]\n"
          ]
        }
      ]
    }
  ]
}