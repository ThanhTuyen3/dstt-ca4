{
  "nbformat": 4,
  "nbformat_minor": 0,
  "metadata": {
    "colab": {
      "provenance": []
    },
    "kernelspec": {
      "name": "python3",
      "display_name": "Python 3"
    },
    "language_info": {
      "name": "python"
    }
  },
  "cells": [
    {
      "cell_type": "code",
      "execution_count": null,
      "metadata": {
        "collapsed": true,
        "id": "OVZP7lZFWCWX"
      },
      "outputs": [],
      "source": []
    },
    {
      "cell_type": "markdown",
      "source": [
        "Bài tập tại lớp"
      ],
      "metadata": {
        "id": "5g3tO6jTWFX0"
      }
    },
    {
      "cell_type": "code",
      "source": [
        "# Bài 1\n",
        "def scale(a, v):\n",
        "  return[a*vi for vi in v]\n",
        "v = [3,5,7]\n",
        "scale(10, v)"
      ],
      "metadata": {
        "colab": {
          "base_uri": "https://localhost:8080/"
        },
        "id": "KIJIiESzWPNy",
        "outputId": "b9232505-9f6a-41a2-9f6b-61cc0f631f64"
      },
      "execution_count": 22,
      "outputs": [
        {
          "output_type": "execute_result",
          "data": {
            "text/plain": [
              "[30, 50, 70]"
            ]
          },
          "metadata": {},
          "execution_count": 22
        }
      ]
    },
    {
      "cell_type": "code",
      "source": [
        "def sumvector(v, w):\n",
        "  return[vi+wi for (vi,wi) in zip(v, w)]\n",
        "v = [3,5,7]\n",
        "w = [2,4,6]\n",
        "sumvector(v,w)"
      ],
      "metadata": {
        "colab": {
          "base_uri": "https://localhost:8080/"
        },
        "id": "vh5xAXDsbvdI",
        "outputId": "180d6b1e-78b8-43eb-db2d-d8d2b128c2c9"
      },
      "execution_count": 23,
      "outputs": [
        {
          "output_type": "execute_result",
          "data": {
            "text/plain": [
              "[5, 9, 13]"
            ]
          },
          "metadata": {},
          "execution_count": 23
        }
      ]
    },
    {
      "cell_type": "code",
      "source": [
        "def dotvector(v, w):\n",
        "  return sum([vi*wi for (vi, wi) in zip(v, w)])\n",
        "dotvector(v, w)"
      ],
      "metadata": {
        "colab": {
          "base_uri": "https://localhost:8080/"
        },
        "id": "yCAccQ2ybya0",
        "outputId": "45b87b62-51c9-4e00-805d-89d94dee6d8c"
      },
      "execution_count": 24,
      "outputs": [
        {
          "output_type": "execute_result",
          "data": {
            "text/plain": [
              "68"
            ]
          },
          "metadata": {},
          "execution_count": 24
        }
      ]
    },
    {
      "cell_type": "code",
      "source": [
        "def lenvector(v):\n",
        "  return dotvector(v,v)\n",
        "lenvector(w)"
      ],
      "metadata": {
        "colab": {
          "base_uri": "https://localhost:8080/"
        },
        "id": "4zN7uMSEb1pF",
        "outputId": "5aea6d97-df8b-4c27-d1d1-01b40c0c0aa1"
      },
      "execution_count": 26,
      "outputs": [
        {
          "output_type": "execute_result",
          "data": {
            "text/plain": [
              "56"
            ]
          },
          "metadata": {},
          "execution_count": 26
        }
      ]
    },
    {
      "cell_type": "code",
      "source": [
        "#Bài 2\n",
        "import numpy as np\n",
        "scores = np.array([-1, 1, 2, -3, 5, -4])\n",
        "scores >= 0\n",
        "scores < 0\n",
        "np.select([scores >=0, scores < 0],['so duong','so am'], default='unknown')\n"
      ],
      "metadata": {
        "colab": {
          "base_uri": "https://localhost:8080/"
        },
        "id": "Wme2VE7UZ7sd",
        "outputId": "a716fac0-bffa-427f-d7e6-58d13d6a8356"
      },
      "execution_count": 31,
      "outputs": [
        {
          "output_type": "execute_result",
          "data": {
            "text/plain": [
              "array(['so am', 'so duong', 'so duong', 'so am', 'so duong', 'so am'],\n",
              "      dtype='<U8')"
            ]
          },
          "metadata": {},
          "execution_count": 31
        }
      ]
    },
    {
      "cell_type": "code",
      "source": [
        "scores = np.array([-1, 1, 2, 0, -3, 5, 0, -4])\n",
        "np.select([scores >0, scores ==0, scores < 0],['so duong', 'so 0','so am'], default='unknown')"
      ],
      "metadata": {
        "colab": {
          "base_uri": "https://localhost:8080/"
        },
        "id": "s6X7lgvnjEmQ",
        "outputId": "246fa01d-9fa0-4652-db33-7fb97f48688c"
      },
      "execution_count": 32,
      "outputs": [
        {
          "output_type": "execute_result",
          "data": {
            "text/plain": [
              "array(['so am', 'so duong', 'so duong', 'so 0', 'so am', 'so duong',\n",
              "       'so 0', 'so am'], dtype='<U8')"
            ]
          },
          "metadata": {},
          "execution_count": 32
        }
      ]
    },
    {
      "cell_type": "code",
      "source": [
        "#Bài 3\n",
        "import numpy as np\n",
        "from scipy import linalg, sparse\n",
        "D = np.matrix([ [3,4], [5,6] ])\n",
        "print(D)\n",
        "C = np.matrix(np.random.random((5,7)))\n",
        "print(C)\n",
        "A = np.matrix(np.random.random((2,2)))\n",
        "print(A)\n",
        "b = np.array([(1+5j, 2j, 3j),(4, 5, 6)])\n",
        "B = np.asmatrix(b)\n",
        "print(b)\n",
        "print(B)"
      ],
      "metadata": {
        "colab": {
          "base_uri": "https://localhost:8080/"
        },
        "id": "ce8pl8-ZgiJe",
        "outputId": "ee5205bd-1aa8-4a5b-adfa-b6a5514319d0"
      },
      "execution_count": 36,
      "outputs": [
        {
          "output_type": "stream",
          "name": "stdout",
          "text": [
            "[[3 4]\n",
            " [5 6]]\n",
            "[[0.31980555 0.64569719 0.50033434 0.70397336 0.50839066 0.69326777\n",
            "  0.72937307]\n",
            " [0.04993196 0.27004104 0.07057901 0.64434399 0.32932358 0.29937499\n",
            "  0.37916082]\n",
            " [0.60878696 0.79307017 0.16799156 0.04176452 0.49927777 0.48399382\n",
            "  0.4177812 ]\n",
            " [0.49945362 0.64317773 0.35920083 0.53926176 0.68507032 0.52232797\n",
            "  0.70728816]\n",
            " [0.6540438  0.67383749 0.23042846 0.78275142 0.96648828 0.32697615\n",
            "  0.87115358]]\n",
            "[[0.08870242 0.94876772]\n",
            " [0.24624663 0.00188306]]\n",
            "[[1.+5.j 0.+2.j 0.+3.j]\n",
            " [4.+0.j 5.+0.j 6.+0.j]]\n",
            "[[1.+5.j 0.+2.j 0.+3.j]\n",
            " [4.+0.j 5.+0.j 6.+0.j]]\n"
          ]
        }
      ]
    },
    {
      "cell_type": "code",
      "source": [
        "import numpy as np\n",
        "b = np.array([(1+5j, 2j, 3j),(4, 5,\n",
        "6)])\n",
        "B = np.asmatrix(b)\n",
        "print(B)\n",
        "print(b)\n",
        "A = np.matrix(np.random.random((2,2)))\n",
        "print(A)\n",
        "print(A.T)\n",
        "print(A.I)\n",
        "linalg.inv(A)\n",
        "M = np.array([[-1,3,2],[0,-2,1],[1,5,-2]])\n",
        "M_lower = np.tril(M)\n",
        "print(M_lower)\n",
        "M = np.array([[-1,3,2],[0,-2,1],[1,5,-2]])\n",
        "M_upper = np.triu(M)\n",
        "print(M_upper)\n",
        "M = np.array([[-1,3,2],[0,-2,1],[1,5,-2]])\n",
        "v_diag = np.diag(M)\n",
        "print (v_diag)\n",
        "M_diag = np.diag(v_diag)\n",
        "print (M_diag)"
      ],
      "metadata": {
        "colab": {
          "base_uri": "https://localhost:8080/"
        },
        "id": "3MyIsjVzlNDa",
        "outputId": "377a10e4-8a57-466c-a2e0-2e4b254d6e2c"
      },
      "execution_count": 37,
      "outputs": [
        {
          "output_type": "stream",
          "name": "stdout",
          "text": [
            "[[1.+5.j 0.+2.j 0.+3.j]\n",
            " [4.+0.j 5.+0.j 6.+0.j]]\n",
            "[[1.+5.j 0.+2.j 0.+3.j]\n",
            " [4.+0.j 5.+0.j 6.+0.j]]\n",
            "[[0.26949704 0.83048136]\n",
            " [0.92665004 0.67665435]]\n",
            "[[0.26949704 0.92665004]\n",
            " [0.83048136 0.67665435]]\n",
            "[[-1.15232238  1.41428523]\n",
            " [ 1.57805767 -0.45894551]]\n",
            "[[-1  0  0]\n",
            " [ 0 -2  0]\n",
            " [ 1  5 -2]]\n",
            "[[-1  3  2]\n",
            " [ 0 -2  1]\n",
            " [ 0  0 -2]]\n",
            "[-1 -2 -2]\n",
            "[[-1  0  0]\n",
            " [ 0 -2  0]\n",
            " [ 0  0 -2]]\n"
          ]
        }
      ]
    },
    {
      "cell_type": "code",
      "source": [
        "#Bài 4\n",
        "import sympy as sp\n",
        "x = sp.Symbol('x')\n",
        "y = sp.Symbol('y')\n",
        "z = sp.Symbol('z')\n",
        "sp.solve([x*x+2-6, y-1-6,x+z-1, 2*x*x-8, z*z+4-5,y-z-8], [x, y, z])"
      ],
      "metadata": {
        "id": "_xKPx8sHmRMp"
      },
      "execution_count": null,
      "outputs": []
    },
    {
      "cell_type": "code",
      "source": [
        "x = [1,2,3]\n",
        "y = [1,2,3]\n",
        "print(all(x[]))"
      ],
      "metadata": {
        "id": "pCH1n1zpn-ZH"
      },
      "execution_count": null,
      "outputs": []
    }
  ]
}